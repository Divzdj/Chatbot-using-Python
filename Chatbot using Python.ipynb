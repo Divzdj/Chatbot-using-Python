{
 "cells": [
  {
   "cell_type": "code",
   "execution_count": 4,
   "id": "da6fbc59-22d3-42db-bf07-2acee954d294",
   "metadata": {},
   "outputs": [],
   "source": [
    "import re"
   ]
  },
  {
   "cell_type": "code",
   "execution_count": 5,
   "id": "f2764d28-140e-4e4c-8418-bec72c38b1ac",
   "metadata": {},
   "outputs": [],
   "source": [
    "#Dictionary containing questions and there corresponding answers\n",
    "qa_pairs={\n",
    "    \"0.Hi\":\"Hello\",\n",
    "    \"1. What is Python?\": \"Python is a high-level, interpreted programming language known for its simplicity and readability.\",\n",
    "    \"2. What are the advantages of using Python?\": \"Python offers several advantages such as simplicity, readability, vast community support, extensive libraries, and cross-platform compatibility.\",\n",
    "    \"3.How do you use loops in Python?\": \"Python provides several types of loops including 'for' loops and 'while' loops. 'for' loops are used for iterating over a sequence (such as a list, tuple, or string) while 'while' loops are used for repeating a block of code as long as a condition is true.\",\n",
    "    \"4. What are Python data types?\": \"Python supports various data types including integers, floats, strings, lists, tuples, dictionaries, and sets.\",\n",
    "    \"5. How do you declare a variable in Python?\": \"Variables in Python can be declared simply by assigning a value to a name. For example, 'x = 10' declares a variable 'x' with the value 10.\",\n",
    "    \"6. What are Python lists?\": \"Lists in Python are ordered collections of items that can be of different data types. They are mutable, meaning their elements can be changed after creation.\",\n",
    "    \"7. How do you define  functions iny Python?\": \"Functions in Python are defined using the 'def' keyword followed by the function name and parameters. For example, 'def my_function(param1, param2):'.\",\n",
    "    \"8. What are Python modules?\": \"Modules in Python are files containing Python code that can be imported and used in other Python scripts. They help in organizing code into reusable components.\",\n",
    "    \"9. How do you handle exceptions in Python?\": \"Exceptions in Python are handled using try-except blocks. Code that might raise an exception is placed inside the 'try' block, and the handling code is placed inside the 'except' block.\",\n",
    "    \"10. What are Python libraries?\": \"Python libraries are collections of modules that provide pre-written functionality to solve specific problems. Examples include NumPy for numerical computations, pandas for data analysis, and matplotlib for data visualization.\"\n",
    "}\n"
   ]
  },
  {
   "cell_type": "code",
   "execution_count": 6,
   "id": "05c18563-5129-46bb-8415-85c20ff34874",
   "metadata": {},
   "outputs": [
    {
     "name": "stdout",
     "output_type": "stream",
     "text": [
      "Hi! I'm a Python tutorial chatbot.Ask me anything about Python tutorials\n",
      "you can type 'quit' to exit the chat\n"
     ]
    },
    {
     "name": "stdin",
     "output_type": "stream",
     "text": [
      "You:     Hi\n"
     ]
    },
    {
     "name": "stdout",
     "output_type": "stream",
     "text": [
      "Chatbot: Hello\n"
     ]
    },
    {
     "name": "stdin",
     "output_type": "stream",
     "text": [
      "You:     python\n"
     ]
    },
    {
     "name": "stdout",
     "output_type": "stream",
     "text": [
      "Chatbot: Python is a high-level, interpreted programming language known for its simplicity and readability.\n"
     ]
    },
    {
     "name": "stdin",
     "output_type": "stream",
     "text": [
      "You:     quit\n"
     ]
    },
    {
     "name": "stdout",
     "output_type": "stream",
     "text": [
      "GoodBye!\n"
     ]
    }
   ],
   "source": [
    "def chat():\n",
    "    print(\"Hi! I'm a Python tutorial chatbot.Ask me anything about Python tutorials\")\n",
    "    print(\"you can type 'quit' to exit the chat\")\n",
    "    while True:\n",
    "        user_input=input(\"You:    \").strip().lower()\n",
    "        if user_input==\"quit\":\n",
    "            print(\"GoodBye!\")\n",
    "            break\n",
    "        found=False\n",
    "        for question,answer in qa_pairs.items():\n",
    "            if re.search(user_input,question.lower()):\n",
    "                print(\"Chatbot:\",answer)\n",
    "                found=True\n",
    "                break\n",
    "        if not found:\n",
    "            print(\"Chatbot: Sorry I don't understand that question\")\n",
    "if __name__==\"__main__\":\n",
    "    chat()"
   ]
  },
  {
   "cell_type": "code",
   "execution_count": null,
   "id": "3705c9b1-5d16-4ea0-8716-82d41e4e5631",
   "metadata": {},
   "outputs": [],
   "source": []
  }
 ],
 "metadata": {
  "kernelspec": {
   "display_name": "Python 3 (ipykernel)",
   "language": "python",
   "name": "python3"
  },
  "language_info": {
   "codemirror_mode": {
    "name": "ipython",
    "version": 3
   },
   "file_extension": ".py",
   "mimetype": "text/x-python",
   "name": "python",
   "nbconvert_exporter": "python",
   "pygments_lexer": "ipython3",
   "version": "3.11.5"
  }
 },
 "nbformat": 4,
 "nbformat_minor": 5
}
